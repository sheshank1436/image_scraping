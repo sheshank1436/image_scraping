{
 "cells": [
  {
   "cell_type": "code",
   "execution_count": 1,
   "metadata": {},
   "outputs": [
    {
     "name": "stderr",
     "output_type": "stream",
     "text": [
      "C:\\Users\\shkatta\\Anaconda3\\New folder\\lib\\site-packages\\urllib3\\connectionpool.py:979: InsecureRequestWarning: Unverified HTTPS request is being made to host 'towardsdatascience.com'. Adding certificate verification is strongly advised. See: https://urllib3.readthedocs.io/en/latest/advanced-usage.html#ssl-warnings\n",
      "  warnings.warn(\n",
      "C:\\Users\\shkatta\\Anaconda3\\New folder\\lib\\site-packages\\urllib3\\connectionpool.py:979: InsecureRequestWarning: Unverified HTTPS request is being made to host 'medium.com'. Adding certificate verification is strongly advised. See: https://urllib3.readthedocs.io/en/latest/advanced-usage.html#ssl-warnings\n",
      "  warnings.warn(\n",
      "C:\\Users\\shkatta\\Anaconda3\\New folder\\lib\\site-packages\\urllib3\\connectionpool.py:979: InsecureRequestWarning: Unverified HTTPS request is being made to host 'towardsdatascience.com'. Adding certificate verification is strongly advised. See: https://urllib3.readthedocs.io/en/latest/advanced-usage.html#ssl-warnings\n",
      "  warnings.warn(\n"
     ]
    }
   ],
   "source": [
    "#when ever we need to request anything from the web we import the requests library\n",
    "#this code is only to show the content present in the webpage\n",
    "import requests\n",
    "page='https://towardsdatascience.com/image-scraping-with-python-a96feda8af2d'\n",
    "result=requests.get(page,verify=False)\n",
    "#result.content"
   ]
  },
  {
   "cell_type": "code",
   "execution_count": 20,
   "metadata": {},
   "outputs": [],
   "source": [
    "#create  a folder named download_images and create a subfolder as folder 1 and change the cwd to folder1\n",
    "#now the images from the link below will be downloaded in the folder 1\n",
    "os.chdir(r'download_images\\folder1')"
   ]
  },
  {
   "cell_type": "code",
   "execution_count": 21,
   "metadata": {},
   "outputs": [],
   "source": [
    "import os\n",
    "import random\n",
    "import urllib.request\n",
    "\n",
    "\n",
    "import requests\n",
    "from urllib.request import urlopen\n",
    "import re\n",
    "from bs4 import *\n",
    "#url=https://www.thespruce.com/types-of-roses-4069722'\n",
    "url =urlopen('https://en.wikipedia.org/wiki/Virat_Kohli').read()\n",
    "#=requests.get(url)"
   ]
  },
  {
   "cell_type": "code",
   "execution_count": 22,
   "metadata": {},
   "outputs": [
    {
     "name": "stdout",
     "output_type": "stream",
     "text": [
      "https://upload.wikimedia.org/wikipedia/commons/thumb/7/7c/The_President%2C_Shri_Pranab_Mukherjee_presenting_the_Padma_Shri_Award_to_Shri_Virat_Kohli%2C_at_a_Civil_Investiture_Ceremony%2C_at_Rashtrapati_Bhavan%2C_in_New_Delhi_on_March_30%2C_2017_%28cropped%29.jpg/260px-thumbnail.jpg\n",
      "\n",
      "https://upload.wikimedia.org/wikipedia/commons/thumb/8/8b/India_Vs_New_zealand_One_day_International%2C_10_December_2010_%286160488612%29.jpg/220px-India_Vs_New_zealand_One_day_International%2C_10_December_2010_%286160488612%29.jpg\n",
      "\n",
      "https://upload.wikimedia.org/wikipedia/commons/thumb/a/ad/Virat_Kohli_Batting.jpg/250px-Virat_Kohli_Batting.jpg\n",
      "\n",
      "https://upload.wikimedia.org/wikipedia/commons/thumb/4/47/India_Vs_New_zealand_One_day_International%2C_10_December_2010_%286159922053%29_%28cropped%29.jpg/170px-India_Vs_New_zealand_One_day_International%2C_10_December_2010_%286159922053%29_%28cropped%29.jpg\n",
      "\n",
      "https://upload.wikimedia.org/wikipedia/commons/thumb/a/ac/Virat_Kohli_26_Feb_2012.jpg/180px-Virat_Kohli_26_Feb_2012.jpg\n",
      "\n",
      "https://upload.wikimedia.org/wikipedia/commons/thumb/2/2b/Virat_Kohli_batting_2013.jpg/230px-Virat_Kohli_batting_2013.jpg\n",
      "\n",
      "https://upload.wikimedia.org/wikipedia/commons/thumb/a/a3/VIRAT_KHOLI_%26_DUNCAN_FLETCHER_%2815570557124%29.jpg/230px-VIRAT_KHOLI_%26_DUNCAN_FLETCHER_%2815570557124%29.jpg\n",
      "\n",
      "https://upload.wikimedia.org/wikipedia/commons/thumb/1/13/Virat_Kohli_fielding_at_Trent_Bridge_2018_%28cropped%29.jpg/220px-Virat_Kohli_fielding_at_Trent_Bridge_2018_%28cropped%29.jpg\n",
      "\n",
      "https://upload.wikimedia.org/wikipedia/commons/thumb/4/42/Virat_Kohli_at_the_2015_IPL_opening_ceremony_%28cropped%29.jpg/220px-Virat_Kohli_at_the_2015_IPL_opening_ceremony_%28cropped%29.jpg\n",
      "\n",
      "https://upload.wikimedia.org/wikipedia/commons/thumb/c/c5/The_President%2C_Shri_Ram_Nath_Kovind_presenting_the_Rajiv_Gandhi_Khel_Ratna_Award%2C_2018_to_Shri_Virat_Kohli_for_Cricket%2C_in_a_glittering_ceremony%2C_at_Rashtrapati_Bhavan%2C_in_New_Delhi_on_September_25%2C_2018.JPG/220px-thumbnail.jpg\n",
      "\n",
      "https://upload.wikimedia.org/wikipedia/commons/thumb/6/64/Anushka_Sharma_and_Virat_Kohli_at_Vogue_Beauty_Awards.jpg/220px-Anushka_Sharma_and_Virat_Kohli_at_Vogue_Beauty_Awards.jpg\n",
      "\n",
      "https://upload.wikimedia.org/wikipedia/commons/thumb/b/b2/Virat_Kohli_charity_%28cropped%29.jpg/215px-Virat_Kohli_charity_%28cropped%29.jpg\n",
      "\n"
     ]
    }
   ],
   "source": [
    "bs = BeautifulSoup(url, 'html.parser')\n",
    "link=[]\n",
    "#we are checking for images links in the img tag\n",
    "#within that tag  we only need to get the required source information of the image\n",
    "#images = bs.find_all('img', {'src':re.compile('.JPG')})\n",
    "images=bs.find_all('img', {'src':re.compile('.jpg')}) \n",
    "for image in images: \n",
    "    x=('https:'+image['src']+'\\n')\n",
    "    print(x)\n",
    "    img_name=random.randrange(1,1120)\n",
    "    full_name=str(img_name)+'.jpg'\n",
    "    urllib.request.urlretrieve(x,full_name)\n"
   ]
  },
  {
   "cell_type": "code",
   "execution_count": 23,
   "metadata": {},
   "outputs": [
    {
     "name": "stdout",
     "output_type": "stream",
     "text": [
      "https://www.monumentphotos.co.uk/wp-content/uploads/2020/07/DSC_3788-Apollo-Signed-460x379.jpg\n",
      "\n",
      "https://www.monumentphotos.co.uk/wp-content/uploads/2020/06/McLaren-Orange-montage1-Edit-cropped-WEB-460x316.jpg\n",
      "\n",
      "https://www.monumentphotos.co.uk/wp-content/uploads/2020/05/Hoka-composite-ATR5-final-web-460x326.jpg\n",
      "\n",
      "https://www.monumentphotos.co.uk/wp-content/uploads/2020/02/Appletiser-composite-web-1-460x696.jpg\n",
      "\n",
      "https://www.monumentphotos.co.uk/wp-content/uploads/2015/11/Hayley-Book-Web-460x391.jpg\n",
      "\n",
      "https://www.monumentphotos.co.uk/wp-content/uploads/2015/11/Welder-Website-460x349.jpg\n",
      "\n",
      "https://www.monumentphotos.co.uk/wp-content/uploads/2015/11/DSC_3670-Zachary-Web-460x635.jpg\n",
      "\n",
      "https://www.monumentphotos.co.uk/wp-content/uploads/2015/11/HANNAH-GUNN-powder-explosion-8-460x612.jpg\n",
      "\n",
      "https://www.monumentphotos.co.uk/wp-content/uploads/2015/11/COD-WW2-Aaron-WEB-Colour-460x460.jpg\n",
      "\n",
      "https://www.monumentphotos.co.uk/wp-content/uploads/2015/11/Macro-Wasp-2020-WEB-460x390.jpg\n",
      "\n",
      "https://www.monumentphotos.co.uk/wp-content/uploads/2015/11/Stephanie-Bride-Web-460x642.jpg\n",
      "\n",
      "https://www.monumentphotos.co.uk/wp-content/uploads/2015/11/DSC_3444-Miska-portrait-WEB-460x609.jpg\n",
      "\n",
      "https://www.monumentphotos.co.uk/wp-content/uploads/2015/11/12795172_1103299696381873_8505001453478534140_o-460x289.jpg\n",
      "\n"
     ]
    }
   ],
   "source": [
    "#create   subfolder as folder2 and change the cwd to folder2\n",
    "#now the images from the link below will be downloaded in the folder 2\n",
    "os.chdir(r' download_images\\folder2')\n",
    "#The urllib.request module defines functions and classes which help in opening URLs \n",
    "from urllib.request import urlopen\n",
    "#Beautiful Soup is a library that makes it easy to scrape information from web pages\n",
    "#Beautiful Soup is a Python library for pulling data out of HTML and XML files\n",
    "from bs4 import BeautifulSoup\n",
    "#This 're' module provides regular expression matching operations\n",
    "import re\n",
    "import random\n",
    "import urllib.request\n",
    "html = urlopen('https://www.monumentphotos.co.uk/')\n",
    "#the data will be in the form of text and we need to parse it in html format\n",
    "#once we get the html format only then we can extract the images link from the webpage\n",
    "bs = BeautifulSoup(html, 'html.parser')\n",
    "#we are checking for images links in the img tag\n",
    "#within that tag  we only need to get the required source information of the image\n",
    "images = bs.find_all('img', {'src':re.compile('.jpg')})\n",
    "for image in images: \n",
    "    x=(image['src']+'\\n')\n",
    "    print(x)\n",
    "    img_name=random.randrange(1,120)\n",
    "    full_name=str(img_name)+'.jpg'\n",
    "    urllib.request.urlretrieve(x,full_name)\n"
   ]
  },
  {
   "cell_type": "code",
   "execution_count": 24,
   "metadata": {},
   "outputs": [
    {
     "name": "stdout",
     "output_type": "stream",
     "text": [
      "https://www.monumentphotos.co.uk/wp-content/uploads/2020/07/DSC_3788-Apollo-Signed-460x379.jpg\n",
      "\n",
      "https://www.monumentphotos.co.uk/wp-content/uploads/2020/06/McLaren-Orange-montage1-Edit-cropped-WEB-460x316.jpg\n",
      "\n",
      "https://www.monumentphotos.co.uk/wp-content/uploads/2020/05/Hoka-composite-ATR5-final-web-460x326.jpg\n",
      "\n",
      "https://www.monumentphotos.co.uk/wp-content/uploads/2020/02/Appletiser-composite-web-1-460x696.jpg\n",
      "\n",
      "https://www.monumentphotos.co.uk/wp-content/uploads/2015/11/Hayley-Book-Web-460x391.jpg\n",
      "\n",
      "https://www.monumentphotos.co.uk/wp-content/uploads/2015/11/Welder-Website-460x349.jpg\n",
      "\n",
      "https://www.monumentphotos.co.uk/wp-content/uploads/2015/11/DSC_3670-Zachary-Web-460x635.jpg\n",
      "\n",
      "https://www.monumentphotos.co.uk/wp-content/uploads/2015/11/HANNAH-GUNN-powder-explosion-8-460x612.jpg\n",
      "\n",
      "https://www.monumentphotos.co.uk/wp-content/uploads/2015/11/COD-WW2-Aaron-WEB-Colour-460x460.jpg\n",
      "\n",
      "https://www.monumentphotos.co.uk/wp-content/uploads/2015/11/Macro-Wasp-2020-WEB-460x390.jpg\n",
      "\n",
      "https://www.monumentphotos.co.uk/wp-content/uploads/2015/11/Stephanie-Bride-Web-460x642.jpg\n",
      "\n",
      "https://www.monumentphotos.co.uk/wp-content/uploads/2015/11/DSC_3444-Miska-portrait-WEB-460x609.jpg\n",
      "\n",
      "https://www.monumentphotos.co.uk/wp-content/uploads/2015/11/12795172_1103299696381873_8505001453478534140_o-460x289.jpg\n",
      "\n"
     ]
    }
   ],
   "source": [
    "#create   subfolder as folder2 and change the cwd to folder3\n",
    "#now the images from the link below will be downloaded in the folder 3\n",
    "os.chdir(r'download_images\\folder3')\n",
    "#The urllib.request module defines functions and classes which help in opening URLs \n",
    "from urllib.request import urlopen\n",
    "#Beautiful Soup is a library that makes it easy to scrape information from web pages\n",
    "#Beautiful Soup is a Python library for pulling data out of HTML and XML files\n",
    "from bs4 import BeautifulSoup\n",
    "#This 're' module provides regular expression matching operations\n",
    "import re\n",
    "import random\n",
    "import urllib.request\n",
    "html = urlopen('https://www.monumentphotos.co.uk/')\n",
    "#the data will be in the form of text and we need to parse it in html format\n",
    "#once we get the html format only then we can extract the images link from the webpage\n",
    "bs = BeautifulSoup(html, 'html.parser')\n",
    "#we are checking for images links in the img tag\n",
    "#within that tag  we only need to get the required source information of the image\n",
    "images = bs.find_all('img', {'src':re.compile('.jpg')})\n",
    "for image in images: \n",
    "    x=(image['src']+'\\n')\n",
    "    print(x)\n",
    "    img_name=random.randrange(1,120)\n",
    "    full_name=str(img_name)+'.jpg'\n",
    "    urllib.request.urlretrieve(x,full_name)\n"
   ]
  },
  {
   "cell_type": "code",
   "execution_count": 25,
   "metadata": {},
   "outputs": [],
   "source": [
    "#create   subfolder as folder4 and change the cwd to folder4\n",
    "#now the images from the link below will be downloaded in the folder 3\n",
    "os.chdir(r' download_images\\folder4')\n",
    "from urllib.request import urlopen\n",
    "#Beautiful Soup is a library that makes it easy to scrape information from web pages\n",
    "#Beautiful Soup is a Python library for pulling data out of HTML and XML files\n",
    "from bs4 import BeautifulSoup\n",
    "#This 're' module provides regular expression matching operations\n",
    "import re\n",
    "import random\n",
    "import urllib.request\n",
    "html = urlopen('https://www.monumentphotos.co.uk/')\n",
    "#the data will be in the form of text and we need to parse it in html format\n",
    "#once we get the html format only then we can extract the images link from the webpage\n",
    "bs = BeautifulSoup(html, 'html.parser')\n",
    "#we are checking for images links in the img tag\n",
    "#within that tag  we only need to get the required source information of the image\n",
    "images = bs.find_all('img')\n",
    "#print(images)"
   ]
  },
  {
   "cell_type": "code",
   "execution_count": 30,
   "metadata": {
    "scrolled": true
   },
   "outputs": [
    {
     "name": "stdout",
     "output_type": "stream",
     "text": [
      "https://upload.wikimedia.org/wikipedia/commons/thumb/c/c7/Johnson%27s_household_book_of_nature_%287268642682%29.jpg/300px-Johnson%27s_household_book_of_nature_%287268642682%29.jpg\n",
      "\n"
     ]
    }
   ],
   "source": [
    " \n",
    "#The urllib.request module defines functions and classes which help in opening URLs \n",
    "from urllib.request import urlopen\n",
    "#Beautiful Soup is a library that makes it easy to scrape information from web pages\n",
    "#Beautiful Soup is a Python library for pulling data out of HTML and XML files\n",
    "from bs4 import BeautifulSoup\n",
    "#This 're' module provides regular expression matching operations\n",
    "import re\n",
    "import random\n",
    "import urllib.request\n",
    "html = urlopen('https://en.wikipedia.org/wiki/List_of_dog_breeds')\n",
    "#the data will be in the form of text and we need to parse it in html format\n",
    "#once we get the html format only then we can extract the images link from the webpage\n",
    "bs = BeautifulSoup(html, 'html.parser')\n",
    "#we are checking for images links in the img tag\n",
    "#within that tag  we only need to get the required source information of the image\n",
    "images = bs.find_all('img', {'src':re.compile('.jpg')})\n",
    "for image in images: \n",
    "    x=('https:'+image['src']+'\\n')\n",
    "    print(x)\n",
    "    img_name=random.randrange(1,1120)\n",
    "    full_name=str(img_name)+'.jpg'\n",
    "    urllib.request.urlretrieve(x,full_name)\n",
    "\n",
    "    "
   ]
  },
  {
   "cell_type": "code",
   "execution_count": 27,
   "metadata": {},
   "outputs": [
    {
     "name": "stdout",
     "output_type": "stream",
     "text": [
      "//upload.wikimedia.org/wikipedia/commons/thumb/e/e9/Big_and_little_dog_1.jpg/220px-Big_and_little_dog_1.jpg\n",
      "https://upload.wikimedia.org/wikipedia/commons/thumb/e/e9/Big_and_little_dog_1.jpg/220px-Big_and_little_dog_1.jpg\n"
     ]
    }
   ],
   "source": [
    " \n",
    "import urllib\n",
    "import os\n",
    "x='//upload.wikimedia.org/wikipedia/commons/thumb/e/e9/Big_and_little_dog_1.jpg/220px-Big_and_little_dog_1.jpg'\n",
    "print(x)\n",
    "print('https:'+x)\n",
    "#image = urllib.URLopener()\n",
    "#urllib.request.urlretrieve(\"https://upload.wikimedia.org/wikipedia/commons/thumb/e/e9/Big_and_little_dog_1.jpg/220px-Big_and_little_dog_1.jpg\",\"00012001.jpg\")"
   ]
  },
  {
   "cell_type": "code",
   "execution_count": null,
   "metadata": {},
   "outputs": [],
   "source": []
  }
 ],
 "metadata": {
  "kernelspec": {
   "display_name": "Python 3",
   "language": "python",
   "name": "python3"
  },
  "language_info": {
   "codemirror_mode": {
    "name": "ipython",
    "version": 3
   },
   "file_extension": ".py",
   "mimetype": "text/x-python",
   "name": "python",
   "nbconvert_exporter": "python",
   "pygments_lexer": "ipython3",
   "version": "3.8.3"
  }
 },
 "nbformat": 4,
 "nbformat_minor": 2
}
